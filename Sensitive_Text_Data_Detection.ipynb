{
  "nbformat": 4,
  "nbformat_minor": 0,
  "metadata": {
    "colab": {
      "name": "Sensitive_Text_Data_Detection.ipynb",
      "provenance": [],
      "collapsed_sections": []
    },
    "kernelspec": {
      "name": "python3",
      "display_name": "Python 3"
    },
    "language_info": {
      "name": "python"
    }
  },
  "cells": [
    {
      "cell_type": "markdown",
      "metadata": {
        "id": "view-in-github"
      },
      "source": [
        ""
      ]
    },
    {
      "cell_type": "markdown",
      "metadata": {
        "id": "sM59X-o79RgC"
      },
      "source": [
        "#Sensitive Text Data Detection\n",
        "\n",
        "## Importing libraries and downloading the dataset"
      ]
    },
    {
      "cell_type": "code",
      "source": [
        "import tensorflow as tf\n",
        "\n",
        "tf.config.list_physical_devices(\"GPU\")"
      ],
      "metadata": {
        "colab": {
          "base_uri": "https://localhost:8080/"
        },
        "id": "0ZHM3B_ijuxg",
        "outputId": "04908709-dec4-47f6-e516-93c50f4aee0f"
      },
      "execution_count": 4,
      "outputs": [
        {
          "output_type": "execute_result",
          "data": {
            "text/plain": [
              "[]"
            ]
          },
          "metadata": {},
          "execution_count": 4
        }
      ]
    },
    {
      "cell_type": "code",
      "metadata": {
        "id": "leaIgZqWI9HX",
        "colab": {
          "base_uri": "https://localhost:8080/"
        },
        "outputId": "361c4fb2-9618-4071-d4db-7d985a0a5979"
      },
      "source": [
        "# Importing the necessary libraries\n",
        "import tensorflow as tf\n",
        "import json\n",
        "import os\n",
        "import random\n",
        "\n",
        "from tensorflow.keras.preprocessing.text import Tokenizer\n",
        "from tensorflow.keras.preprocessing.sequence import pad_sequences\n",
        "\n",
        "# Downloading the dataset\n",
        "git_folder = \"/content/Sensitive-Data-Detection\"\n",
        "if os.path.exists(git_folder) == False:\n",
        "  !git clone https://github.com/Gltknzk/Sensitive-Data-Detection.git\n",
        "\n",
        "dataset_folder = git_folder + \"/text_dataset/\"\n",
        "sensitive_datafile = \"SensitiveDataset.json\"\n",
        "nonsensitive_datafile = \"NonSensitiveDataset.json\""
      ],
      "execution_count": 5,
      "outputs": [
        {
          "output_type": "stream",
          "name": "stdout",
          "text": [
            "Cloning into 'Sensitive-Data-Detection'...\n",
            "remote: Enumerating objects: 1081, done.\u001b[K\n",
            "remote: Counting objects: 100% (5/5), done.\u001b[K\n",
            "remote: Compressing objects: 100% (2/2), done.\u001b[K\n",
            "remote: Total 1081 (delta 0), reused 5 (delta 0), pack-reused 1076\u001b[K\n",
            "Receiving objects: 100% (1081/1081), 236.73 MiB | 30.49 MiB/s, done.\n",
            "Resolving deltas: 100% (137/137), done.\n"
          ]
        }
      ]
    },
    {
      "cell_type": "code",
      "metadata": {
        "id": "h_o7FrN_Jgr1"
      },
      "source": [
        "# Necessary Variables\n",
        "vocab_size = 3000\n",
        "embedding_dim = 32\n",
        "max_length = 60\n",
        "truncation_type='post'\n",
        "padding_type='post'\n",
        "oov_tok = \"<OOV>\"\n",
        "training_size = 20000"
      ],
      "execution_count": 6,
      "outputs": []
    },
    {
      "cell_type": "markdown",
      "metadata": {
        "id": "7i3YvPoe9ZaT"
      },
      "source": [
        "## Preprocessing the dataset"
      ]
    },
    {
      "cell_type": "code",
      "metadata": {
        "colab": {
          "base_uri": "https://localhost:8080/"
        },
        "id": "vIUEAZOfJyy-",
        "outputId": "403ed79e-98bd-45b2-f2b0-9d67e5da8c14"
      },
      "source": [
        "dataList = []\n",
        "sentences = []\n",
        "labels = []\n",
        "# Stopwords should be removed or excluded from the given text so that more \n",
        "# focus can be given to those words which define the meaning of the text.\n",
        "stopwords = [ \"a\", \"about\", \"above\", \"after\", \"again\", \"against\", \"all\", \"am\", \"an\", \"and\", \"any\", \"are\",\n",
        "             \"as\", \"at\", \"be\", \"because\", \"been\", \"before\", \"being\", \"below\", \"between\", \"both\", \"but\", \"by\",\n",
        "             \"could\", \"did\", \"do\", \"does\", \"doing\", \"down\", \"during\", \"each\", \"few\", \"for\", \"from\", \"further\",\n",
        "             \"had\", \"has\", \"have\", \"having\", \"he\", \"he'd\", \"he'll\", \"he's\", \"her\", \"here\", \"here's\", \"hers\",\n",
        "             \"herself\", \"him\", \"himself\", \"his\", \"how\", \"how's\", \"i\", \"i'd\", \"i'll\", \"i'm\", \"i've\", \"if\", \"in\",\n",
        "             \"into\", \"is\", \"it\", \"it's\", \"its\", \"itself\", \"let's\", \"me\", \"more\", \"most\", \"my\", \"myself\", \"nor\",\n",
        "             \"of\", \"on\", \"once\", \"only\", \"or\", \"other\", \"ought\", \"our\", \"ours\", \"ourselves\", \"out\", \"over\", \"own\",\n",
        "             \"same\", \"she\", \"she'd\", \"she'll\", \"she's\", \"should\", \"so\", \"some\", \"such\", \"than\", \"that\", \"that's\",\n",
        "             \"the\", \"their\", \"theirs\", \"them\", \"themselves\", \"then\", \"there\", \"there's\", \"these\", \"they\", \"they'd\",\n",
        "             \"they'll\", \"they're\", \"they've\", \"this\", \"those\", \"through\", \"to\", \"too\", \"under\", \"until\", \"up\", \"very\",\n",
        "             \"was\", \"we\", \"we'd\", \"we'll\", \"we're\", \"we've\", \"were\", \"what\", \"what's\", \"when\", \"when's\", \"where\", \"where's\",\n",
        "             \"which\", \"while\", \"who\", \"who's\", \"whom\", \"why\", \"why's\", \"with\", \"would\", \"you\", \"you'd\", \"you'll\", \"you're\", \"you've\", \"your\", \"yours\", \"yourself\", \"yourselves\" ]\n",
        "\n",
        "def loadDataset(filename):\n",
        "  with open(dataset_folder + filename, 'r') as f:\n",
        "      datastore = json.load(f)\n",
        "  for item in datastore:\n",
        "    sentence = item['data']\n",
        "    label = item['is_sensitive']\n",
        "    for word in stopwords: #Remove stop words in sentence\n",
        "      token = \" \" + word + \" \"\n",
        "      sentence = sentence.replace(token, \" \")\n",
        "    dataList.append([sentence, label])\n",
        "\n",
        "# Loading both sensitive and non-sensitive dataset\n",
        "loadDataset(sensitive_datafile)\n",
        "loadDataset(nonsensitive_datafile)\n",
        "\n",
        "# Shuffling the dataset randomly\n",
        "random.shuffle(dataList)\n",
        "\n",
        "# Dataset size: 31500 (approx)\n",
        "print(\"Dataset Size: \", len(dataList))\n",
        "\n",
        "# Dataset has both sentences and labels\n",
        "for item in dataList:\n",
        "  sentences.append(item[0])\n",
        "  labels.append(item[1])\n",
        "\n",
        "# Splitting up the total dataset\n",
        "# Training size = 20000\n",
        "# Validation size = 11500 (approx)\n",
        "training_sentences = sentences[0:training_size]\n",
        "validation_sentences = sentences[training_size:]\n",
        "training_labels = labels[0:training_size]\n",
        "validation_labels = labels[training_size:]\n",
        "\n",
        "print(\"Training Dataset Size: \", len(training_sentences))\n",
        "print(\"Sample Training Data:\", training_sentences[0])\n",
        "print(\"Validation Dataset Size: \", len(validation_sentences))\n",
        "print(\"Sample Validation Data:\", validation_sentences[0])"
      ],
      "execution_count": 7,
      "outputs": [
        {
          "output_type": "stream",
          "name": "stdout",
          "text": [
            "Dataset Size:  31576\n",
            "Training Dataset Size:  20000\n",
            "Sample Training Data: username:chi-ho, password:motherfucker, email:chi-ho@sky.com, phone no:3563185105\n",
            "Validation Dataset Size:  11576\n",
            "Sample Validation Data: Michele, young woman works dead-end job, convinced untrustworthy man named Buz go Los Angeles, claims connections can land job Go-Go dancer. The two head L.A., along hitchhiker named Critter. Once Los Angeles, Michele gets job dancer learns club owner dancers connected drug trade.\n"
          ]
        }
      ]
    },
    {
      "cell_type": "code",
      "metadata": {
        "id": "Kt01OaiEMbQ9",
        "colab": {
          "base_uri": "https://localhost:8080/"
        },
        "outputId": "8c41aea8-a53a-49da-d21b-af9ebdcf0b9a"
      },
      "source": [
        "# Tokenizer takes the num_words (here vocab_size = 3000) maximum occuring unique words from the dataset.\n",
        "# Anything out of these words will be treated as Out of Vocabulary(<oov>)\n",
        "# It strips the punctutations and removes upper-case letters.\n",
        "tokenizer = Tokenizer(num_words=vocab_size, oov_token=oov_tok)\n",
        "\n",
        "# Apply the tokenizer on training sentences and generate the word index\n",
        "# Eg: word_index[\"the\"] = 1; word_index[\"cat\"] = 2; etc.\n",
        "tokenizer.fit_on_texts(training_sentences)\n",
        "\n",
        "# Save the word index (Used for deploying in web application)\n",
        "word_index = tokenizer.word_index\n",
        "print(\"Size of word index:\", len(word_index))\n",
        "\n",
        "with open(\"word_index.json\", \"w\") as outfile:  \n",
        "    json.dump(word_index, outfile)\n",
        "    print(\"Saving the word index as JSON\")\n",
        "\n",
        "# Transforms each word in sentences to a sequence of integers based on the word_index\n",
        "training_sequences = tokenizer.texts_to_sequences(training_sentences)\n",
        "# To feed the text into neural network - sentences must be of the same length. Hence we'll be using padding.\n",
        "# If the sentences are smaller than the maxlen, then we'll pad (Here, we are using post padding)\n",
        "# If the sentences are larger than the maxlen, then we'll truncate (Here, we are using post truncation)\n",
        "training_padded = pad_sequences(training_sequences, maxlen=max_length, padding=padding_type, truncating=truncation_type)\n",
        "\n",
        "# Apply the same for validation data\n",
        "validation_sequences = tokenizer.texts_to_sequences(validation_sentences)\n",
        "validation_padded = pad_sequences(validation_sequences, maxlen=max_length, padding=padding_type, truncating=truncation_type)"
      ],
      "execution_count": 8,
      "outputs": [
        {
          "output_type": "stream",
          "name": "stdout",
          "text": [
            "Size of word index: 103196\n",
            "Saving the word index as JSON\n"
          ]
        }
      ]
    },
    {
      "cell_type": "code",
      "metadata": {
        "id": "SSHwIoCLPKPq"
      },
      "source": [
        "# Convert to Numpy arrays, so as to get it to work with TensorFlow 2.x\n",
        "import numpy as np\n",
        "training_padded = np.array(training_padded)\n",
        "training_labels = np.array(training_labels)\n",
        "validation_padded = np.array(validation_padded)\n",
        "validation_labels = np.array(validation_labels)"
      ],
      "execution_count": 9,
      "outputs": []
    },
    {
      "cell_type": "markdown",
      "metadata": {
        "id": "9OLtjmJw9ehH"
      },
      "source": [
        "## Model"
      ]
    },
    {
      "cell_type": "code",
      "metadata": {
        "colab": {
          "base_uri": "https://localhost:8080/"
        },
        "id": "p5ADD9CuNFWB",
        "outputId": "51d724f8-c4a5-440c-aecd-39455fc325c2"
      },
      "source": [
        "# Callbacks to cancel training after reaching a desired accuracy\n",
        "# This is done to avoid overfitting\n",
        "DESIRED_ACCURACY = 0.999\n",
        "class myCallback(tf.keras.callbacks.Callback):\n",
        "  def on_epoch_end(self, epoch, logs={}):\n",
        "    if logs.get('accuracy') > DESIRED_ACCURACY:\n",
        "      print(\"Reached 99.9% accuracy so cancelling training!\")\n",
        "      self.model.stop_training = True\n",
        "\n",
        "callbacks = myCallback()\n",
        "\n",
        "# Sequential - defines a SEQUENCE of layers in the neural network.\n",
        "model = tf.keras.Sequential([\n",
        "    # Embedding - Turns positive integers (indexes) into dense vectors of fixed size (here embedding_dim = 32).\n",
        "    tf.keras.layers.Embedding(vocab_size, embedding_dim, input_length=max_length),\n",
        "    # 1D convolution layer - filter size = 128, convolution window = 5, activation fn = ReLU\n",
        "    tf.keras.layers.Conv1D(128, 5, activation='relu'),\n",
        "    # Global average pooling operation (Flattening)\n",
        "    tf.keras.layers.GlobalAveragePooling1D(),\n",
        "    # Regular densely-connected Neural Network layer with ReLU activation function.\n",
        "    tf.keras.layers.Dense(24, activation='relu'),\n",
        "    # Regular densely-connected Neural Network layer with sigmoid activation function.\n",
        "    tf.keras.layers.Dense(1, activation='sigmoid')\n",
        "])\n",
        "\n",
        "# model.compile - Configures the model for training.\n",
        "model.compile(loss='binary_crossentropy',optimizer='adam',metrics=['accuracy'])\n",
        "# Adam -  optimization algorithm used instead of the classical stochastic gradient descent procedure to update network weights.\n",
        "\n",
        "# Display the summary of the model\n",
        "model.summary()"
      ],
      "execution_count": 15,
      "outputs": [
        {
          "output_type": "stream",
          "name": "stdout",
          "text": [
            "Model: \"sequential_1\"\n",
            "_________________________________________________________________\n",
            " Layer (type)                Output Shape              Param #   \n",
            "=================================================================\n",
            " embedding_1 (Embedding)     (None, 60, 32)            96000     \n",
            "                                                                 \n",
            " conv1d_1 (Conv1D)           (None, 56, 128)           20608     \n",
            "                                                                 \n",
            " global_average_pooling1d_1   (None, 128)              0         \n",
            " (GlobalAveragePooling1D)                                        \n",
            "                                                                 \n",
            " dense_2 (Dense)             (None, 24)                3096      \n",
            "                                                                 \n",
            " dense_3 (Dense)             (None, 1)                 25        \n",
            "                                                                 \n",
            "=================================================================\n",
            "Total params: 119,729\n",
            "Trainable params: 119,729\n",
            "Non-trainable params: 0\n",
            "_________________________________________________________________\n"
          ]
        }
      ]
    },
    {
      "cell_type": "markdown",
      "metadata": {
        "id": "mb2NlD159g8k"
      },
      "source": [
        "## Training"
      ]
    },
    {
      "cell_type": "code",
      "metadata": {
        "colab": {
          "base_uri": "https://localhost:8080/"
        },
        "id": "7TP5ThxvNPK8",
        "outputId": "7c9bc389-eaaa-4660-bf35-884221b3c70c"
      },
      "source": [
        "num_epochs = 10\n",
        "\n",
        "# model.fit - Train the model for a fixed number of epochs\n",
        "history = model.fit(training_padded, \n",
        "                    training_labels, \n",
        "                    epochs=num_epochs, \n",
        "                    validation_data=(\n",
        "                        validation_padded, \n",
        "                        validation_labels), \n",
        "                    verbose=1)\n",
        "                    #callbacks=[callbacks])"
      ],
      "execution_count": 16,
      "outputs": [
        {
          "output_type": "stream",
          "name": "stdout",
          "text": [
            "Epoch 1/10\n",
            "625/625 [==============================] - 8s 11ms/step - loss: 0.0453 - accuracy: 0.9931 - val_loss: 0.0033 - val_accuracy: 0.9991\n",
            "Epoch 2/10\n",
            "625/625 [==============================] - 6s 10ms/step - loss: 0.0017 - accuracy: 0.9995 - val_loss: 0.0016 - val_accuracy: 0.9997\n",
            "Epoch 3/10\n",
            "625/625 [==============================] - 7s 10ms/step - loss: 5.3018e-04 - accuracy: 0.9999 - val_loss: 0.0013 - val_accuracy: 0.9997\n",
            "Epoch 4/10\n",
            "625/625 [==============================] - 7s 10ms/step - loss: 3.6385e-04 - accuracy: 0.9999 - val_loss: 0.0014 - val_accuracy: 0.9997\n",
            "Epoch 5/10\n",
            "625/625 [==============================] - 6s 10ms/step - loss: 3.0878e-04 - accuracy: 0.9999 - val_loss: 6.0828e-04 - val_accuracy: 0.9997\n",
            "Epoch 6/10\n",
            "625/625 [==============================] - 6s 10ms/step - loss: 2.3799e-04 - accuracy: 0.9999 - val_loss: 5.7859e-04 - val_accuracy: 0.9998\n",
            "Epoch 7/10\n",
            "625/625 [==============================] - 7s 11ms/step - loss: 2.0646e-04 - accuracy: 0.9999 - val_loss: 3.9706e-04 - val_accuracy: 0.9999\n",
            "Epoch 8/10\n",
            "625/625 [==============================] - 7s 10ms/step - loss: 1.5640e-04 - accuracy: 0.9999 - val_loss: 1.3237e-04 - val_accuracy: 0.9999\n",
            "Epoch 9/10\n",
            "625/625 [==============================] - 7s 11ms/step - loss: 3.1612e-05 - accuracy: 1.0000 - val_loss: 8.7316e-05 - val_accuracy: 0.9999\n",
            "Epoch 10/10\n",
            "625/625 [==============================] - 7s 10ms/step - loss: 1.2097e-05 - accuracy: 1.0000 - val_loss: 9.5679e-05 - val_accuracy: 0.9999\n"
          ]
        }
      ]
    },
    {
      "cell_type": "markdown",
      "metadata": {
        "id": "poN5h1SD9tiE"
      },
      "source": [
        "## Plotting Accuracy and Loss Functions"
      ]
    },
    {
      "cell_type": "code",
      "metadata": {
        "colab": {
          "base_uri": "https://localhost:8080/",
          "height": 541
        },
        "id": "WCDbITWsNWlI",
        "outputId": "4873564a-d5de-4b0b-a132-4540c083d330"
      },
      "source": [
        "import matplotlib.pyplot as plt\n",
        "\n",
        "# Plot the accuracy and loss functions\n",
        "def plot_graphs(history, string):\n",
        "  plt.plot(history.history[string])\n",
        "  plt.plot(history.history['val_'+string])\n",
        "  plt.xlabel(\"Epochs\")\n",
        "  plt.ylabel(string)\n",
        "  plt.legend([string, 'val_'+string])\n",
        "  plt.show()\n",
        "  \n",
        "plot_graphs(history, \"accuracy\")\n",
        "plot_graphs(history, \"loss\")"
      ],
      "execution_count": 17,
      "outputs": [
        {
          "output_type": "display_data",
          "data": {
            "text/plain": [
              "<Figure size 432x288 with 1 Axes>"
            ],
            "image/png": "[encoded data removed]"
          },
          "metadata": {
            "needs_background": "light"
          }
        },
        {
          "output_type": "display_data",
          "data": {
            "text/plain": [
              "<Figure size 432x288 with 1 Axes>"
            ],
            "image/png": "[encoded data removed]"
          },
          "metadata": {
            "needs_background": "light"
          }
        }
      ]
    },
    {
      "cell_type": "markdown",
      "metadata": {
        "id": "z9ymTQswYUQz"
      },
      "source": [
        "## Confusion Matrix"
      ]
    },
    {
      "cell_type": "code",
      "metadata": {
        "colab": {
          "base_uri": "https://localhost:8080/",
          "height": 1000
        },
        "id": "tVdCGN-tYXqX",
        "outputId": "082ad0d5-c6ae-4362-83f3-1090bb7ab2b8"
      },
      "source": [
        "import seaborn\n",
        "print('Confusion Matrix')\n",
        "y_predicted = model.predict(validation_padded)\n",
        "y_predicted_labels = y_predicted > 0.5\n",
        "\n",
        "size = np.size(y_predicted_labels)\n",
        "y_predicted_labels = y_predicted_labels.reshape(size, )\n",
        "\n",
        "for i in range (1, 5):\n",
        "  total = i * size // 4\n",
        "  cm = tf.math.confusion_matrix(labels=validation_labels[0:total],predictions=y_predicted_labels[0:total])\n",
        "\n",
        "  # Calculate accuracy\n",
        "  cm_np = cm.numpy()\n",
        "  conf_acc = (cm_np[0, 0] + cm_np[1, 1])/ np.sum(cm_np) * 100\n",
        "  print(\"Accuracy for\", str(total), \"Test Data = \", conf_acc)\n",
        "\n",
        "  # Plot the confusion matrix\n",
        "  plt.figure(figsize = (10,7))\n",
        "  seaborn.heatmap(cm, annot=True, fmt='d')\n",
        "  plt.title(\"Confusion Matrix for \" + str(total) + \" Test Data\")\n",
        "  plt.xlabel('Predicted')\n",
        "  plt.ylabel('Expected')"
      ],
      "execution_count": 18,
      "outputs": [
        {
          "output_type": "stream",
          "name": "stdout",
          "text": [
            "Confusion Matrix\n",
            "Accuracy for 2894 Test Data =  100.0\n",
            "Accuracy for 5788 Test Data =  100.0\n",
            "Accuracy for 8682 Test Data =  99.98848191660908\n",
            "Accuracy for 11576 Test Data =  99.9913614374568\n"
          ]
        },
        {
          "output_type": "display_data",
          "data": {
            "text/plain": [
              "<Figure size 720x504 with 2 Axes>"
            ],
            "image/png": "[encoded data removed]"
          },
          "metadata": {
            "needs_background": "light"
          }
        },
        {
          "output_type": "display_data",
          "data": {
            "text/plain": [
              "<Figure size 720x504 with 2 Axes>"
            ],
            "image/png": "[encoded data removed]"
          },
          "metadata": {
            "needs_background": "light"
          }
        },
        {
          "output_type": "display_data",
          "data": {
            "text/plain": [
              "<Figure size 720x504 with 2 Axes>"
            ],
            "image/png": "[encoded data removed]"
          },
          "metadata": {
            "needs_background": "light"
          }
        },
        {
          "output_type": "display_data",
          "data": {
            "text/plain": [
              "<Figure size 720x504 with 2 Axes>"
            ],
            "image/png": "[encoded data removed]"
          },
          "metadata": {
            "needs_background": "light"
          }
        }
      ]
    },
    {
      "cell_type": "markdown",
      "metadata": {
        "id": "f94fRNNo-386"
      },
      "source": [
        "## Saving the model"
      ]
    },
    {
      "cell_type": "code",
      "metadata": {
        "colab": {
          "base_uri": "https://localhost:8080/"
        },
        "id": "F_rBTIVTQHow",
        "outputId": "6f7ee680-d254-4d2c-96fa-da87f4af3700"
      },
      "source": [
        "# Save and convert the model (Used for deploying in web application)\n",
        "model.save('text.h5')\n",
        "print(\"Saved the model successfully\")\n",
        "\n",
        "!apt-get -qq install virtualenv\n",
        "!virtualenv -p python3 venv\n",
        "!source venv/bin/activate\n",
        "!pip install -q tensorflowjs\n",
        "!tensorflowjs_converter --input_format=keras /content/model/text.h5 /content/text_model\n",
        "print(\"Model converted to JSON successfully\")"
      ],
      "execution_count": 19,
      "outputs": [
        {
          "output_type": "stream",
          "name": "stdout",
          "text": [
            "Saved the model successfully\n",
            "Already using interpreter /usr/bin/python3\n",
            "Using base prefix '/usr'\n",
            "New python executable in /content/venv/bin/python3\n",
            "Not overwriting existing python script /content/venv/bin/python (you must use /content/venv/bin/python3)\n",
            "Installing setuptools, pkg_resources, pip, wheel...done.\n",
            "Model converted to JSON successfully\n"
          ]
        }
      ]
    },
    {
      "cell_type": "markdown",
      "metadata": {
        "id": "plgECuQc9wdt"
      },
      "source": [
        "## Sample Example"
      ]
    },
    {
      "cell_type": "code",
      "metadata": {
        "colab": {
          "base_uri": "https://localhost:8080/"
        },
        "id": "Kyfb-NtpNV7h",
        "outputId": "2e2e4bac-7682-414b-f02f-5a5d903051bd"
      },
      "source": [
        "# Sample examples\n",
        "sentence = [\"His Name is John\",\n",
        "            \"Her name is Janet\",\n",
        "            \"date of birth:17-09-1972\",\n",
        "            \"passport number: 123456789\",\n",
        "            \"Phone Number is 555555555\",\n",
        "            \"Credit card number 341-547-787\",\n",
        "            \"Username:John\",\n",
        "            \"Password:1345\",\n",
        "            \"DataTera:Global Data Source for AI models\",\n",
        "            \"Let's do this\",\n",
        "            \"Her Race is White\",\n",
        "            \"Race:Cacuasian\",\n",
        "            \"Eye Color: Brown\",\n",
        "            \"That was an awsome movie\",\n",
        "            \"Her glucose level was very high\",\n",
        "            \"She has sent her e-mail address for the meeting\",\n",
        "            \"Her email:janet@gmail.com\",\n",
        "            \"e-mail:john@gmail.com\",\n",
        "            \"fax number:12456789\",\n",
        "            \"Please do not share your private information\"]\n",
        "sequences = tokenizer.texts_to_sequences(sentence)\n",
        "padded = pad_sequences(sequences, maxlen=max_length, padding=padding_type, truncating=truncation_type)\n",
        "predictions = model.predict(padded)\n",
        "for i in range(len(predictions)):\n",
        "  print(predictions[i][0])\n",
        "  if predictions[i][0]>0.3:\n",
        "    print(\"This Data is More Likely Sensitive - \"+ sentence[i])\n",
        "  else:\n",
        "    print(\"This Data is Less Likely Sensitive - \"+ sentence[i])"
      ],
      "execution_count": 21,
      "outputs": [
        {
          "output_type": "stream",
          "name": "stdout",
          "text": [
            "0.9517522\n",
            "This Data is More Likely Sensitive - His Name is John\n",
            "0.9843912\n",
            "This Data is More Likely Sensitive - Her name is Janet\n",
            "0.99693704\n",
            "This Data is More Likely Sensitive - date of birth:17-09-1972\n",
            "0.9926946\n",
            "This Data is More Likely Sensitive - passport number: 123456789\n",
            "0.99445796\n",
            "This Data is More Likely Sensitive - Phone Number is 555555555\n",
            "0.99355155\n",
            "This Data is More Likely Sensitive - Credit card number 341-547-787\n",
            "0.88740164\n",
            "This Data is More Likely Sensitive - Username:John\n",
            "0.90224075\n",
            "This Data is More Likely Sensitive - Password:1345\n",
            "0.00012812018\n",
            "This Data is Less Likely Sensitive - DataTera:Global Data Source for AI models\n",
            "0.2667417\n",
            "This Data is Less Likely Sensitive - Let's do this\n",
            "0.02917552\n",
            "This Data is Less Likely Sensitive - Her Race is White\n",
            "0.41384238\n",
            "This Data is More Likely Sensitive - Race:Cacuasian\n",
            "0.3299929\n",
            "This Data is More Likely Sensitive - Eye Color: Brown\n",
            "7.698705e-05\n",
            "This Data is Less Likely Sensitive - That was an awsome movie\n",
            "0.00077939034\n",
            "This Data is Less Likely Sensitive - Her glucose level was very high\n",
            "3.5776754e-06\n",
            "This Data is Less Likely Sensitive - She has sent her e-mail address for the meeting\n",
            "0.99809384\n",
            "This Data is More Likely Sensitive - Her email:janet@gmail.com\n",
            "0.98342127\n",
            "This Data is More Likely Sensitive - e-mail:john@gmail.com\n",
            "0.99072903\n",
            "This Data is More Likely Sensitive - fax number:12456789\n",
            "0.0010248423\n",
            "This Data is Less Likely Sensitive - Please do not share your private information\n"
          ]
        }
      ]
    }
  ]
}