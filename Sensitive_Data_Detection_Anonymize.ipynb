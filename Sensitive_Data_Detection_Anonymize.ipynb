{
  "nbformat": 4,
  "nbformat_minor": 0,
  "metadata": {
    "colab": {
      "name": "Sensitive_Data_Detection_Anonymize.ipynb",
      "provenance": [],
      "collapsed_sections": [],
      "authorship_tag": "ABX9TyOVFS3AaTCP7mAE3nSuou3+",
      "include_colab_link": true
    },
    "kernelspec": {
      "name": "python3",
      "display_name": "Python 3"
    },
    "language_info": {
      "name": "python"
    }
  },
  "cells": [
    {
      "cell_type": "markdown",
      "metadata": {
        "id": "view-in-github",
        "colab_type": "text"
      },
      "source": [
        "<a href=\"https://colab.research.google.com/github/Gltknzk/Sensitive-Data-Detection/blob/master/Sensitive_Data_Detection_Anonymize.ipynb\" target=\"_parent\"><img src=\"https://colab.research.google.com/assets/colab-badge.svg\" alt=\"Open In Colab\"/></a>"
      ]
    },
    {
      "cell_type": "markdown",
      "source": [
        "## Advanced Sensitive Data Detection and Anonymization by using Hugging Face Transformers"
      ],
      "metadata": {
        "id": "oPsi0E60Jbx0"
      }
    },
    {
      "cell_type": "markdown",
      "source": [
        "Presidio (The Presidio analyzer is a Python based service for detecting Sensitive Data in text) helps to ensure sensitive data is properly managed and governed. It provides fast identification and anonymization modules for private entities in text such as credit card numbers, names, locations, social security numbers, bitcoin wallets, US phone numbers, financial data and more."
      ],
      "metadata": {
        "id": "WHcNFhg4Ji7E"
      }
    },
    {
      "cell_type": "markdown",
      "source": [
        "By Default Presidio is using Spacy for Sensitive Data detection and extraction. In this model are we going to replace spacy with a Hugging Face Transformer to perform detection and anonymization. Presidio supports already out of the box 24 PII entities including, CREDIT_CARD, IBAN_CODE, EMAIL_ADDRESS, US_BANK_NUMBER, US_ITIN... We are going to extend this available 24 entities with transformers to include LOCATION, PERSON & ORGANIZATION. But it is possible to use any \"entity\" extracted by the transformers model."
      ],
      "metadata": {
        "id": "58jAYBmwKaKl"
      }
    },
    {
      "cell_type": "markdown",
      "source": [
        "Loading important libraries"
      ],
      "metadata": {
        "id": "l4qjIvXFK6tf"
      }
    },
    {
      "cell_type": "code",
      "source": [
        "pip install presidio_analyzer"
      ],
      "metadata": {
        "colab": {
          "base_uri": "https://localhost:8080/"
        },
        "id": "2YKv0e4kJWh4",
        "outputId": "880c0524-d972-4847-a232-2403647cd644"
      },
      "execution_count": 1,
      "outputs": [
        {
          "output_type": "stream",
          "name": "stdout",
          "text": [
            "Looking in indexes: https://pypi.org/simple, https://us-python.pkg.dev/colab-wheels/public/simple/\n",
            "Collecting presidio_analyzer\n",
            "  Downloading presidio_analyzer-2.2.29-py3-none-any.whl (66 kB)\n",
            "\u001b[K     |████████████████████████████████| 66 kB 2.1 MB/s \n",
            "\u001b[?25hCollecting phonenumbers>=8.12\n",
            "  Downloading phonenumbers-8.12.52-py2.py3-none-any.whl (2.6 MB)\n",
            "\u001b[K     |████████████████████████████████| 2.6 MB 9.4 MB/s \n",
            "\u001b[?25hRequirement already satisfied: pyyaml in /usr/local/lib/python3.7/dist-packages (from presidio_analyzer) (3.13)\n",
            "Requirement already satisfied: regex in /usr/local/lib/python3.7/dist-packages (from presidio_analyzer) (2022.6.2)\n",
            "Requirement already satisfied: spacy>=3.2.0 in /usr/local/lib/python3.7/dist-packages (from presidio_analyzer) (3.3.1)\n",
            "Collecting tldextract\n",
            "  Downloading tldextract-3.3.1-py3-none-any.whl (93 kB)\n",
            "\u001b[K     |████████████████████████████████| 93 kB 1.6 MB/s \n",
            "\u001b[?25hRequirement already satisfied: typing-extensions<4.2.0,>=3.7.4 in /usr/local/lib/python3.7/dist-packages (from spacy>=3.2.0->presidio_analyzer) (4.1.1)\n",
            "Requirement already satisfied: spacy-legacy<3.1.0,>=3.0.9 in /usr/local/lib/python3.7/dist-packages (from spacy>=3.2.0->presidio_analyzer) (3.0.9)\n",
            "Requirement already satisfied: blis<0.8.0,>=0.4.0 in /usr/local/lib/python3.7/dist-packages (from spacy>=3.2.0->presidio_analyzer) (0.7.8)\n",
            "Requirement already satisfied: wasabi<1.1.0,>=0.9.1 in /usr/local/lib/python3.7/dist-packages (from spacy>=3.2.0->presidio_analyzer) (0.9.1)\n",
            "Requirement already satisfied: catalogue<2.1.0,>=2.0.6 in /usr/local/lib/python3.7/dist-packages (from spacy>=3.2.0->presidio_analyzer) (2.0.7)\n",
            "Requirement already satisfied: numpy>=1.15.0 in /usr/local/lib/python3.7/dist-packages (from spacy>=3.2.0->presidio_analyzer) (1.21.6)\n",
            "Requirement already satisfied: cymem<2.1.0,>=2.0.2 in /usr/local/lib/python3.7/dist-packages (from spacy>=3.2.0->presidio_analyzer) (2.0.6)\n",
            "Requirement already satisfied: setuptools in /usr/local/lib/python3.7/dist-packages (from spacy>=3.2.0->presidio_analyzer) (57.4.0)\n",
            "Requirement already satisfied: jinja2 in /usr/local/lib/python3.7/dist-packages (from spacy>=3.2.0->presidio_analyzer) (2.11.3)\n",
            "Requirement already satisfied: requests<3.0.0,>=2.13.0 in /usr/local/lib/python3.7/dist-packages (from spacy>=3.2.0->presidio_analyzer) (2.23.0)\n",
            "Requirement already satisfied: langcodes<4.0.0,>=3.2.0 in /usr/local/lib/python3.7/dist-packages (from spacy>=3.2.0->presidio_analyzer) (3.3.0)\n",
            "Requirement already satisfied: pathy>=0.3.5 in /usr/local/lib/python3.7/dist-packages (from spacy>=3.2.0->presidio_analyzer) (0.6.2)\n",
            "Requirement already satisfied: tqdm<5.0.0,>=4.38.0 in /usr/local/lib/python3.7/dist-packages (from spacy>=3.2.0->presidio_analyzer) (4.64.0)\n",
            "Requirement already satisfied: typer<0.5.0,>=0.3.0 in /usr/local/lib/python3.7/dist-packages (from spacy>=3.2.0->presidio_analyzer) (0.4.2)\n",
            "Requirement already satisfied: thinc<8.1.0,>=8.0.14 in /usr/local/lib/python3.7/dist-packages (from spacy>=3.2.0->presidio_analyzer) (8.0.17)\n",
            "Requirement already satisfied: murmurhash<1.1.0,>=0.28.0 in /usr/local/lib/python3.7/dist-packages (from spacy>=3.2.0->presidio_analyzer) (1.0.7)\n",
            "Requirement already satisfied: pydantic!=1.8,!=1.8.1,<1.9.0,>=1.7.4 in /usr/local/lib/python3.7/dist-packages (from spacy>=3.2.0->presidio_analyzer) (1.8.2)\n",
            "Requirement already satisfied: packaging>=20.0 in /usr/local/lib/python3.7/dist-packages (from spacy>=3.2.0->presidio_analyzer) (21.3)\n",
            "Requirement already satisfied: preshed<3.1.0,>=3.0.2 in /usr/local/lib/python3.7/dist-packages (from spacy>=3.2.0->presidio_analyzer) (3.0.6)\n",
            "Requirement already satisfied: srsly<3.0.0,>=2.4.3 in /usr/local/lib/python3.7/dist-packages (from spacy>=3.2.0->presidio_analyzer) (2.4.3)\n",
            "Requirement already satisfied: spacy-loggers<2.0.0,>=1.0.0 in /usr/local/lib/python3.7/dist-packages (from spacy>=3.2.0->presidio_analyzer) (1.0.2)\n",
            "Requirement already satisfied: zipp>=0.5 in /usr/local/lib/python3.7/dist-packages (from catalogue<2.1.0,>=2.0.6->spacy>=3.2.0->presidio_analyzer) (3.8.0)\n",
            "Requirement already satisfied: pyparsing!=3.0.5,>=2.0.2 in /usr/local/lib/python3.7/dist-packages (from packaging>=20.0->spacy>=3.2.0->presidio_analyzer) (3.0.9)\n",
            "Requirement already satisfied: smart-open<6.0.0,>=5.2.1 in /usr/local/lib/python3.7/dist-packages (from pathy>=0.3.5->spacy>=3.2.0->presidio_analyzer) (5.2.1)\n",
            "Requirement already satisfied: urllib3!=1.25.0,!=1.25.1,<1.26,>=1.21.1 in /usr/local/lib/python3.7/dist-packages (from requests<3.0.0,>=2.13.0->spacy>=3.2.0->presidio_analyzer) (1.24.3)\n",
            "Requirement already satisfied: chardet<4,>=3.0.2 in /usr/local/lib/python3.7/dist-packages (from requests<3.0.0,>=2.13.0->spacy>=3.2.0->presidio_analyzer) (3.0.4)\n",
            "Requirement already satisfied: idna<3,>=2.5 in /usr/local/lib/python3.7/dist-packages (from requests<3.0.0,>=2.13.0->spacy>=3.2.0->presidio_analyzer) (2.10)\n",
            "Requirement already satisfied: certifi>=2017.4.17 in /usr/local/lib/python3.7/dist-packages (from requests<3.0.0,>=2.13.0->spacy>=3.2.0->presidio_analyzer) (2022.6.15)\n",
            "Requirement already satisfied: click<9.0.0,>=7.1.1 in /usr/local/lib/python3.7/dist-packages (from typer<0.5.0,>=0.3.0->spacy>=3.2.0->presidio_analyzer) (7.1.2)\n",
            "Requirement already satisfied: MarkupSafe>=0.23 in /usr/local/lib/python3.7/dist-packages (from jinja2->spacy>=3.2.0->presidio_analyzer) (2.0.1)\n",
            "Collecting requests-file>=1.4\n",
            "  Downloading requests_file-1.5.1-py2.py3-none-any.whl (3.7 kB)\n",
            "Requirement already satisfied: filelock>=3.0.8 in /usr/local/lib/python3.7/dist-packages (from tldextract->presidio_analyzer) (3.7.1)\n",
            "Requirement already satisfied: six in /usr/local/lib/python3.7/dist-packages (from requests-file>=1.4->tldextract->presidio_analyzer) (1.15.0)\n",
            "Installing collected packages: requests-file, tldextract, phonenumbers, presidio-analyzer\n",
            "Successfully installed phonenumbers-8.12.52 presidio-analyzer-2.2.29 requests-file-1.5.1 tldextract-3.3.1\n"
          ]
        }
      ]
    },
    {
      "cell_type": "code",
      "source": [
        "pip install presidio_anonymizer"
      ],
      "metadata": {
        "colab": {
          "base_uri": "https://localhost:8080/"
        },
        "id": "k9oce551Je4f",
        "outputId": "1f0c0f02-d75d-402b-914d-0e20e036c191"
      },
      "execution_count": 2,
      "outputs": [
        {
          "output_type": "stream",
          "name": "stdout",
          "text": [
            "Looking in indexes: https://pypi.org/simple, https://us-python.pkg.dev/colab-wheels/public/simple/\n",
            "Collecting presidio_anonymizer\n",
            "  Downloading presidio_anonymizer-2.2.29-py3-none-any.whl (25 kB)\n",
            "Collecting pycryptodome>=3.10.1\n",
            "  Downloading pycryptodome-3.15.0-cp35-abi3-manylinux2010_x86_64.whl (2.3 MB)\n",
            "\u001b[K     |████████████████████████████████| 2.3 MB 6.0 MB/s \n",
            "\u001b[?25hInstalling collected packages: pycryptodome, presidio-anonymizer\n",
            "Successfully installed presidio-anonymizer-2.2.29 pycryptodome-3.15.0\n"
          ]
        }
      ]
    },
    {
      "cell_type": "code",
      "source": [
        "#python -m spacy download en_core_web_lg"
      ],
      "metadata": {
        "id": "HTZpNgRWJlnn"
      },
      "execution_count": null,
      "outputs": []
    },
    {
      "cell_type": "code",
      "source": [
        "!pip install transformers"
      ],
      "metadata": {
        "colab": {
          "base_uri": "https://localhost:8080/"
        },
        "id": "7-Y0mkDMMGk5",
        "outputId": "ef410436-6edc-4673-af46-7af9cbff58ce"
      },
      "execution_count": 3,
      "outputs": [
        {
          "output_type": "stream",
          "name": "stdout",
          "text": [
            "Looking in indexes: https://pypi.org/simple, https://us-python.pkg.dev/colab-wheels/public/simple/\n",
            "Collecting transformers\n",
            "  Downloading transformers-4.20.1-py3-none-any.whl (4.4 MB)\n",
            "\u001b[K     |████████████████████████████████| 4.4 MB 4.3 MB/s \n",
            "\u001b[?25hCollecting huggingface-hub<1.0,>=0.1.0\n",
            "  Downloading huggingface_hub-0.8.1-py3-none-any.whl (101 kB)\n",
            "\u001b[K     |████████████████████████████████| 101 kB 10.8 MB/s \n",
            "\u001b[?25hRequirement already satisfied: requests in /usr/local/lib/python3.7/dist-packages (from transformers) (2.23.0)\n",
            "Requirement already satisfied: regex!=2019.12.17 in /usr/local/lib/python3.7/dist-packages (from transformers) (2022.6.2)\n",
            "Requirement already satisfied: packaging>=20.0 in /usr/local/lib/python3.7/dist-packages (from transformers) (21.3)\n",
            "Collecting pyyaml>=5.1\n",
            "  Downloading PyYAML-6.0-cp37-cp37m-manylinux_2_5_x86_64.manylinux1_x86_64.manylinux_2_12_x86_64.manylinux2010_x86_64.whl (596 kB)\n",
            "\u001b[K     |████████████████████████████████| 596 kB 46.6 MB/s \n",
            "\u001b[?25hRequirement already satisfied: filelock in /usr/local/lib/python3.7/dist-packages (from transformers) (3.7.1)\n",
            "Requirement already satisfied: numpy>=1.17 in /usr/local/lib/python3.7/dist-packages (from transformers) (1.21.6)\n",
            "Requirement already satisfied: tqdm>=4.27 in /usr/local/lib/python3.7/dist-packages (from transformers) (4.64.0)\n",
            "Requirement already satisfied: importlib-metadata in /usr/local/lib/python3.7/dist-packages (from transformers) (4.12.0)\n",
            "Collecting tokenizers!=0.11.3,<0.13,>=0.11.1\n",
            "  Downloading tokenizers-0.12.1-cp37-cp37m-manylinux_2_12_x86_64.manylinux2010_x86_64.whl (6.6 MB)\n",
            "\u001b[K     |████████████████████████████████| 6.6 MB 41.4 MB/s \n",
            "\u001b[?25hRequirement already satisfied: typing-extensions>=3.7.4.3 in /usr/local/lib/python3.7/dist-packages (from huggingface-hub<1.0,>=0.1.0->transformers) (4.1.1)\n",
            "Requirement already satisfied: pyparsing!=3.0.5,>=2.0.2 in /usr/local/lib/python3.7/dist-packages (from packaging>=20.0->transformers) (3.0.9)\n",
            "Requirement already satisfied: zipp>=0.5 in /usr/local/lib/python3.7/dist-packages (from importlib-metadata->transformers) (3.8.0)\n",
            "Requirement already satisfied: urllib3!=1.25.0,!=1.25.1,<1.26,>=1.21.1 in /usr/local/lib/python3.7/dist-packages (from requests->transformers) (1.24.3)\n",
            "Requirement already satisfied: certifi>=2017.4.17 in /usr/local/lib/python3.7/dist-packages (from requests->transformers) (2022.6.15)\n",
            "Requirement already satisfied: chardet<4,>=3.0.2 in /usr/local/lib/python3.7/dist-packages (from requests->transformers) (3.0.4)\n",
            "Requirement already satisfied: idna<3,>=2.5 in /usr/local/lib/python3.7/dist-packages (from requests->transformers) (2.10)\n",
            "Installing collected packages: pyyaml, tokenizers, huggingface-hub, transformers\n",
            "  Attempting uninstall: pyyaml\n",
            "    Found existing installation: PyYAML 3.13\n",
            "    Uninstalling PyYAML-3.13:\n",
            "      Successfully uninstalled PyYAML-3.13\n",
            "Successfully installed huggingface-hub-0.8.1 pyyaml-6.0 tokenizers-0.12.1 transformers-4.20.1\n"
          ]
        }
      ]
    },
    {
      "cell_type": "code",
      "source": [
        "import pandas as pd"
      ],
      "metadata": {
        "id": "46u73rWTSNeV"
      },
      "execution_count": 4,
      "outputs": []
    },
    {
      "cell_type": "markdown",
      "source": [
        "Creating Model"
      ],
      "metadata": {
        "id": "rdzgMOOeLXy8"
      }
    },
    {
      "cell_type": "code",
      "source": [
        "from presidio_anonymizer import AnonymizerEngine\n",
        "from presidio_analyzer import AnalyzerEngine\n",
        "from typing import List\n",
        "\n",
        "from presidio_analyzer import AnalyzerEngine, EntityRecognizer, RecognizerResult\n",
        "from presidio_analyzer.nlp_engine import NlpArtifacts\n",
        "from transformers import pipeline\n",
        "\n",
        "# load spacy model -> workaround\n",
        "import os\n",
        "os.system(\"spacy download en_core_web_lg\")\n",
        "\n",
        "# list of entities: https://microsoft.github.io/presidio/supported_entities/#list-of-supported-entities\n",
        "DEFAULT_ANOYNM_ENTITIES = [\n",
        "    \"CREDIT_CARD\",\n",
        "    \"CRYPTO\",\n",
        "    \"DATE_TIME\",\n",
        "    \"EMAIL_ADDRESS\",\n",
        "    \"IBAN_CODE\",\n",
        "    \"IP_ADDRESS\",\n",
        "    \"NRP\",\n",
        "    \"LOCATION\",\n",
        "    \"PERSON\",\n",
        "    \"PHONE_NUMBER\",\n",
        "    \"MEDICAL_LICENSE\",\n",
        "    \"URL\",\n",
        "    \"ORGANIZATION\",\n",
        "    \"US_SSN\"\n",
        "]\n",
        "\n",
        "# init anonymize engine\n",
        "engine = AnonymizerEngine()\n",
        "\n",
        "class HFTransformersRecognizer(EntityRecognizer):\n",
        "    def __init__(\n",
        "        self,\n",
        "        model_id_or_path=None,\n",
        "        aggregation_strategy=\"simple\",\n",
        "        supported_language=\"en\",\n",
        "        ignore_labels=[\"O\", \"MISC\"],\n",
        "    ):\n",
        "        # inits transformers pipeline for given mode or path\n",
        "        self.pipeline = pipeline(\n",
        "            \"token-classification\", model=model_id_or_path, aggregation_strategy=aggregation_strategy, ignore_labels=ignore_labels\n",
        "        )\n",
        "        # map labels to presidio labels\n",
        "        self.label2presidio = {\n",
        "            \"PER\": \"PERSON\",\n",
        "            \"LOC\": \"LOCATION\",\n",
        "            \"ORG\": \"ORGANIZATION\",\n",
        "        }\n",
        "\n",
        "        # passes entities from model into parent class\n",
        "        super().__init__(supported_entities=list(self.label2presidio.values()), supported_language=supported_language)\n",
        "\n",
        "    def load(self) -> None:\n",
        "        \"\"\"No loading is required.\"\"\"\n",
        "        pass\n",
        "\n",
        "    def analyze(\n",
        "        self, text: str, entities: List[str] = None, nlp_artifacts: NlpArtifacts = None\n",
        "    ) -> List[RecognizerResult]:\n",
        "        \"\"\"\n",
        "        Extracts entities using Transformers pipeline\n",
        "        \"\"\"\n",
        "        results = []\n",
        "\n",
        "        # keep max sequence length in mind\n",
        "        predicted_entities = self.pipeline(text)\n",
        "        if len(predicted_entities) > 0:\n",
        "            for e in predicted_entities:\n",
        "                converted_entity = self.label2presidio[e[\"entity_group\"]]\n",
        "                if converted_entity in entities or entities is None:\n",
        "                    results.append(\n",
        "                        RecognizerResult(\n",
        "                            entity_type=converted_entity, start=e[\"start\"], end=e[\"end\"], score=e[\"score\"]\n",
        "                        )\n",
        "                    )\n",
        "        return results\n",
        "\n",
        "\n",
        "def model_fn(model_dir):\n",
        "    transformers_recognizer = HFTransformersRecognizer(model_dir)\n",
        "    # Set up the engine, loads the NLP module (spaCy model by default) and other PII recognizers\n",
        "    analyzer = AnalyzerEngine()\n",
        "    analyzer.registry.add_recognizer(transformers_recognizer)\n",
        "    return analyzer\n",
        "\n",
        "\n",
        "def predict_fn(data, analyzer):\n",
        "    sentences = data.pop(\"inputs\", data)\n",
        "    if \"parameters\" in data:\n",
        "        anonymization_entities = data[\"parameters\"].get(\"entities\", DEFAULT_ANOYNM_ENTITIES)\n",
        "        anonymize_text = data[\"parameters\"].get(\"anonymize\", False)\n",
        "    else:\n",
        "        anonymization_entities = DEFAULT_ANOYNM_ENTITIES\n",
        "        anonymize_text = False\n",
        "\n",
        "    # identify entities\n",
        "    results = analyzer.analyze(text=sentences, entities=anonymization_entities, language=\"en\")\n",
        "    # anonymize text\n",
        "    if anonymize_text:\n",
        "        result = engine.anonymize(text=sentences, analyzer_results=results)\n",
        "        return {\"anonymized\": result.text}\n",
        "\n",
        "    return {\"found\": [entity.to_dict() for entity in results]}"
      ],
      "metadata": {
        "id": "JkXap_mAL3gD"
      },
      "execution_count": 5,
      "outputs": []
    },
    {
      "cell_type": "markdown",
      "source": [
        "Making Predictions"
      ],
      "metadata": {
        "id": "IiMeDelGMNRG"
      }
    },
    {
      "cell_type": "code",
      "source": [
        "sentence=\"\"\"\n",
        "Hello, my name is Zack and I live in Istanbul.\n",
        "I work for DataTera Tech. \n",
        "You can call me at (212) 555-1234.\n",
        "My credit card number is 4095-2609-9393-4932 and my crypto wallet id is 16Yeky6GMjeNkAiNcBY7ZhrLoMSgg1BoyZ.\n",
        "My passport number : 191280342.\n",
        "This is a valid International Bank Account Number: IL150120690000003111111.\n",
        "My social security number is 078-05-1126.  My driver license number is 1234567A.\"\"\""
      ],
      "metadata": {
        "id": "3XhJMxY-R_jQ"
      },
      "execution_count": 6,
      "outputs": []
    },
    {
      "cell_type": "code",
      "source": [
        "data = {\n",
        "  \"inputs\": sentence,\n",
        "}"
      ],
      "metadata": {
        "id": "Bnz0z9SlYGNt"
      },
      "execution_count": 7,
      "outputs": []
    },
    {
      "cell_type": "markdown",
      "source": [
        "Find all default entities in the text"
      ],
      "metadata": {
        "id": "r_uiJP-ZMvin"
      }
    },
    {
      "cell_type": "code",
      "source": [
        "predict_fn(data,AnalyzerEngine())"
      ],
      "metadata": {
        "colab": {
          "base_uri": "https://localhost:8080/"
        },
        "id": "XL4FcBX7YuDj",
        "outputId": "1d7deaad-b611-4791-e646-81278da6bd8a"
      },
      "execution_count": 8,
      "outputs": [
        {
          "output_type": "execute_result",
          "data": {
            "text/plain": [
              "{'found': [{'analysis_explanation': None,\n",
              "   'end': 154,\n",
              "   'entity_type': 'CREDIT_CARD',\n",
              "   'recognition_metadata': {'recognizer_name': 'CreditCardRecognizer'},\n",
              "   'score': 1.0,\n",
              "   'start': 135},\n",
              "  {'analysis_explanation': None,\n",
              "   'end': 216,\n",
              "   'entity_type': 'CRYPTO',\n",
              "   'recognition_metadata': {'recognizer_name': 'CryptoRecognizer'},\n",
              "   'score': 1.0,\n",
              "   'start': 182},\n",
              "  {'analysis_explanation': None,\n",
              "   'end': 324,\n",
              "   'entity_type': 'IBAN_CODE',\n",
              "   'recognition_metadata': {'recognizer_name': 'IbanRecognizer'},\n",
              "   'score': 1.0,\n",
              "   'start': 301},\n",
              "  {'analysis_explanation': None,\n",
              "   'end': 23,\n",
              "   'entity_type': 'PERSON',\n",
              "   'recognition_metadata': {'recognizer_name': 'SpacyRecognizer'},\n",
              "   'score': 0.85,\n",
              "   'start': 19},\n",
              "  {'analysis_explanation': None,\n",
              "   'end': 46,\n",
              "   'entity_type': 'LOCATION',\n",
              "   'recognition_metadata': {'recognizer_name': 'SpacyRecognizer'},\n",
              "   'score': 0.85,\n",
              "   'start': 38},\n",
              "  {'analysis_explanation': None,\n",
              "   'end': 366,\n",
              "   'entity_type': 'US_SSN',\n",
              "   'recognition_metadata': {'recognizer_name': 'UsSsnRecognizer'},\n",
              "   'score': 0.85,\n",
              "   'start': 355},\n",
              "  {'analysis_explanation': None,\n",
              "   'end': 366,\n",
              "   'entity_type': 'PHONE_NUMBER',\n",
              "   'recognition_metadata': {'recognizer_name': 'PhoneRecognizer'},\n",
              "   'score': 0.75,\n",
              "   'start': 355},\n",
              "  {'analysis_explanation': None,\n",
              "   'end': 108,\n",
              "   'entity_type': 'PHONE_NUMBER',\n",
              "   'recognition_metadata': {'recognizer_name': 'PhoneRecognizer'},\n",
              "   'score': 0.4,\n",
              "   'start': 94},\n",
              "  {'analysis_explanation': None,\n",
              "   'end': 248,\n",
              "   'entity_type': 'US_SSN',\n",
              "   'recognition_metadata': {'recognizer_name': 'UsSsnRecognizer'},\n",
              "   'score': 0.05,\n",
              "   'start': 239}]}"
            ]
          },
          "metadata": {},
          "execution_count": 8
        }
      ]
    },
    {
      "cell_type": "markdown",
      "source": [
        "Find only PERSON and LOCATION entities"
      ],
      "metadata": {
        "id": "-h9YhLZEM4YI"
      }
    },
    {
      "cell_type": "code",
      "source": [
        "data = {\n",
        "  \"inputs\": sentence,\n",
        "  \"parameters\": {\n",
        "    \"entities\":[\"PERSON\",\"LOCATION\"]\n",
        "  }\n",
        "}"
      ],
      "metadata": {
        "id": "_5_sK0THaWAi"
      },
      "execution_count": 9,
      "outputs": []
    },
    {
      "cell_type": "code",
      "source": [
        "predict_fn(data,AnalyzerEngine())"
      ],
      "metadata": {
        "colab": {
          "base_uri": "https://localhost:8080/"
        },
        "id": "zSMiIKN1abJ8",
        "outputId": "5de9950a-c639-4c74-9dc0-fd647edc3bd7"
      },
      "execution_count": 10,
      "outputs": [
        {
          "output_type": "execute_result",
          "data": {
            "text/plain": [
              "{'found': [{'analysis_explanation': None,\n",
              "   'end': 23,\n",
              "   'entity_type': 'PERSON',\n",
              "   'recognition_metadata': {'recognizer_name': 'SpacyRecognizer'},\n",
              "   'score': 0.85,\n",
              "   'start': 19},\n",
              "  {'analysis_explanation': None,\n",
              "   'end': 46,\n",
              "   'entity_type': 'LOCATION',\n",
              "   'recognition_metadata': {'recognizer_name': 'SpacyRecognizer'},\n",
              "   'score': 0.85,\n",
              "   'start': 38}]}"
            ]
          },
          "metadata": {},
          "execution_count": 10
        }
      ]
    },
    {
      "cell_type": "markdown",
      "source": [
        "Anonymize all entities in the text"
      ],
      "metadata": {
        "id": "yfi3g0bRNAJd"
      }
    },
    {
      "cell_type": "code",
      "source": [
        "data = {\n",
        "  \"inputs\": sentence,\n",
        "  \"parameters\": {\n",
        "    \"anonymize\": True,\n",
        "  }\n",
        "}"
      ],
      "metadata": {
        "id": "9br549-3arN-"
      },
      "execution_count": 11,
      "outputs": []
    },
    {
      "cell_type": "code",
      "source": [
        "print(predict_fn(data,AnalyzerEngine())[\"anonymized\"])"
      ],
      "metadata": {
        "colab": {
          "base_uri": "https://localhost:8080/"
        },
        "id": "mlGQb9aiauG2",
        "outputId": "494d51b0-4cbd-4041-c30d-2d2e1f7d600b"
      },
      "execution_count": 12,
      "outputs": [
        {
          "output_type": "stream",
          "name": "stdout",
          "text": [
            "\n",
            "Hello, my name is <PERSON> and I live in <LOCATION>.\n",
            "I work for DataTera Tech. \n",
            "You can call me at <PHONE_NUMBER>.\n",
            "My credit card number is <CREDIT_CARD> and my crypto wallet id is <CRYPTO>.\n",
            "My passport number : <US_SSN>.\n",
            "This is a valid International Bank Account Number: <IBAN_CODE>.\n",
            "My social security number is <US_SSN>.  My driver license number is 1234567A.\n"
          ]
        }
      ]
    },
    {
      "cell_type": "markdown",
      "source": [
        "Anonymize only PERSON and LOCATION in the text"
      ],
      "metadata": {
        "id": "-ZPLl0yMJYSN"
      }
    },
    {
      "cell_type": "code",
      "source": [
        "data = {\n",
        "  \"inputs\": sentence,\n",
        "  \"parameters\": {\n",
        "    \"anonymize\": True,\n",
        "    \"entities\":[\"PERSON\",\"LOCATION\"]\n",
        "  }\n",
        "}"
      ],
      "metadata": {
        "id": "QwgZ0IZAfPzd"
      },
      "execution_count": 15,
      "outputs": []
    },
    {
      "cell_type": "code",
      "source": [
        "print(predict_fn(data,AnalyzerEngine())[\"anonymized\"])"
      ],
      "metadata": {
        "colab": {
          "base_uri": "https://localhost:8080/"
        },
        "id": "sFNJOSnvfYEu",
        "outputId": "727e6f52-5d9f-4730-e7ad-44a1580875f1"
      },
      "execution_count": 14,
      "outputs": [
        {
          "output_type": "stream",
          "name": "stdout",
          "text": [
            "\n",
            "Hello, my name is <PERSON> and I live in <LOCATION>.\n",
            "I work for DataTera Tech. \n",
            "You can call me at (212) 555-1234.\n",
            "My credit card number is 4095-2609-9393-4932 and my crypto wallet id is 16Yeky6GMjeNkAiNcBY7ZhrLoMSgg1BoyZ.\n",
            "My passport number : 191280342.\n",
            "This is a valid International Bank Account Number: IL150120690000003111111.\n",
            "My social security number is 078-05-1126.  My driver license number is 1234567A.\n"
          ]
        }
      ]
    },
    {
      "cell_type": "code",
      "source": [
        "data=pd.read_csv(\"TestData.csv\")"
      ],
      "metadata": {
        "id": "-7TJnw2cMeFF"
      },
      "execution_count": 16,
      "outputs": []
    },
    {
      "cell_type": "code",
      "source": [
        "data.head()"
      ],
      "metadata": {
        "colab": {
          "base_uri": "https://localhost:8080/",
          "height": 175
        },
        "id": "38vSEj4BSjMf",
        "outputId": "d189e1e8-9600-4745-9933-09ace68e2bac"
      },
      "execution_count": 17,
      "outputs": [
        {
          "output_type": "execute_result",
          "data": {
            "text/plain": [
              "    Credit Card Number          SSN  Salary               Name\n",
              "0  8595-2609-9393-4932  111-05-1126  150000         Jack North\n",
              "1  4115-2609-9393-4932  524-05-1126  120000       Hanse Mortey\n",
              "2  4095-2609-9322-4932  078-05-1126  110000  Isabelle Martinez\n",
              "3  4095-2909-9393-4932  078-05-1126  100000        Hassan Cook"
            ],
            "text/html": [
              "\n",
              "  <div id=\"df-8597980d-c5be-47c2-a6df-04af142944bf\">\n",
              "    <div class=\"colab-df-container\">\n",
              "      <div>\n",
              "<style scoped>\n",
              "    .dataframe tbody tr th:only-of-type {\n",
              "        vertical-align: middle;\n",
              "    }\n",
              "\n",
              "    .dataframe tbody tr th {\n",
              "        vertical-align: top;\n",
              "    }\n",
              "\n",
              "    .dataframe thead th {\n",
              "        text-align: right;\n",
              "    }\n",
              "</style>\n",
              "<table border=\"1\" class=\"dataframe\">\n",
              "  <thead>\n",
              "    <tr style=\"text-align: right;\">\n",
              "      <th></th>\n",
              "      <th>Credit Card Number</th>\n",
              "      <th>SSN</th>\n",
              "      <th>Salary</th>\n",
              "      <th>Name</th>\n",
              "    </tr>\n",
              "  </thead>\n",
              "  <tbody>\n",
              "    <tr>\n",
              "      <th>0</th>\n",
              "      <td>8595-2609-9393-4932</td>\n",
              "      <td>111-05-1126</td>\n",
              "      <td>150000</td>\n",
              "      <td>Jack North</td>\n",
              "    </tr>\n",
              "    <tr>\n",
              "      <th>1</th>\n",
              "      <td>4115-2609-9393-4932</td>\n",
              "      <td>524-05-1126</td>\n",
              "      <td>120000</td>\n",
              "      <td>Hanse Mortey</td>\n",
              "    </tr>\n",
              "    <tr>\n",
              "      <th>2</th>\n",
              "      <td>4095-2609-9322-4932</td>\n",
              "      <td>078-05-1126</td>\n",
              "      <td>110000</td>\n",
              "      <td>Isabelle Martinez</td>\n",
              "    </tr>\n",
              "    <tr>\n",
              "      <th>3</th>\n",
              "      <td>4095-2909-9393-4932</td>\n",
              "      <td>078-05-1126</td>\n",
              "      <td>100000</td>\n",
              "      <td>Hassan Cook</td>\n",
              "    </tr>\n",
              "  </tbody>\n",
              "</table>\n",
              "</div>\n",
              "      <button class=\"colab-df-convert\" onclick=\"convertToInteractive('df-8597980d-c5be-47c2-a6df-04af142944bf')\"\n",
              "              title=\"Convert this dataframe to an interactive table.\"\n",
              "              style=\"display:none;\">\n",
              "        \n",
              "  <svg xmlns=\"http://www.w3.org/2000/svg\" height=\"24px\"viewBox=\"0 0 24 24\"\n",
              "       width=\"24px\">\n",
              "    <path d=\"M0 0h24v24H0V0z\" fill=\"none\"/>\n",
              "    <path d=\"M18.56 5.44l.94 2.06.94-2.06 2.06-.94-2.06-.94-.94-2.06-.94 2.06-2.06.94zm-11 1L8.5 8.5l.94-2.06 2.06-.94-2.06-.94L8.5 2.5l-.94 2.06-2.06.94zm10 10l.94 2.06.94-2.06 2.06-.94-2.06-.94-.94-2.06-.94 2.06-2.06.94z\"/><path d=\"M17.41 7.96l-1.37-1.37c-.4-.4-.92-.59-1.43-.59-.52 0-1.04.2-1.43.59L10.3 9.45l-7.72 7.72c-.78.78-.78 2.05 0 2.83L4 21.41c.39.39.9.59 1.41.59.51 0 1.02-.2 1.41-.59l7.78-7.78 2.81-2.81c.8-.78.8-2.07 0-2.86zM5.41 20L4 18.59l7.72-7.72 1.47 1.35L5.41 20z\"/>\n",
              "  </svg>\n",
              "      </button>\n",
              "      \n",
              "  <style>\n",
              "    .colab-df-container {\n",
              "      display:flex;\n",
              "      flex-wrap:wrap;\n",
              "      gap: 12px;\n",
              "    }\n",
              "\n",
              "    .colab-df-convert {\n",
              "      background-color: #E8F0FE;\n",
              "      border: none;\n",
              "      border-radius: 50%;\n",
              "      cursor: pointer;\n",
              "      display: none;\n",
              "      fill: #1967D2;\n",
              "      height: 32px;\n",
              "      padding: 0 0 0 0;\n",
              "      width: 32px;\n",
              "    }\n",
              "\n",
              "    .colab-df-convert:hover {\n",
              "      background-color: #E2EBFA;\n",
              "      box-shadow: 0px 1px 2px rgba(60, 64, 67, 0.3), 0px 1px 3px 1px rgba(60, 64, 67, 0.15);\n",
              "      fill: #174EA6;\n",
              "    }\n",
              "\n",
              "    [theme=dark] .colab-df-convert {\n",
              "      background-color: #3B4455;\n",
              "      fill: #D2E3FC;\n",
              "    }\n",
              "\n",
              "    [theme=dark] .colab-df-convert:hover {\n",
              "      background-color: #434B5C;\n",
              "      box-shadow: 0px 1px 3px 1px rgba(0, 0, 0, 0.15);\n",
              "      filter: drop-shadow(0px 1px 2px rgba(0, 0, 0, 0.3));\n",
              "      fill: #FFFFFF;\n",
              "    }\n",
              "  </style>\n",
              "\n",
              "      <script>\n",
              "        const buttonEl =\n",
              "          document.querySelector('#df-8597980d-c5be-47c2-a6df-04af142944bf button.colab-df-convert');\n",
              "        buttonEl.style.display =\n",
              "          google.colab.kernel.accessAllowed ? 'block' : 'none';\n",
              "\n",
              "        async function convertToInteractive(key) {\n",
              "          const element = document.querySelector('#df-8597980d-c5be-47c2-a6df-04af142944bf');\n",
              "          const dataTable =\n",
              "            await google.colab.kernel.invokeFunction('convertToInteractive',\n",
              "                                                     [key], {});\n",
              "          if (!dataTable) return;\n",
              "\n",
              "          const docLinkHtml = 'Like what you see? Visit the ' +\n",
              "            '<a target=\"_blank\" href=https://colab.research.google.com/notebooks/data_table.ipynb>data table notebook</a>'\n",
              "            + ' to learn more about interactive tables.';\n",
              "          element.innerHTML = '';\n",
              "          dataTable['output_type'] = 'display_data';\n",
              "          await google.colab.output.renderOutput(dataTable, element);\n",
              "          const docLink = document.createElement('div');\n",
              "          docLink.innerHTML = docLinkHtml;\n",
              "          element.appendChild(docLink);\n",
              "        }\n",
              "      </script>\n",
              "    </div>\n",
              "  </div>\n",
              "  "
            ]
          },
          "metadata": {},
          "execution_count": 17
        }
      ]
    },
    {
      "cell_type": "code",
      "source": [
        "data_list = data.to_numpy().tolist()\n",
        "print(data_list)\n",
        "print(type(data_list))"
      ],
      "metadata": {
        "colab": {
          "base_uri": "https://localhost:8080/"
        },
        "id": "FZV4E7DuSoou",
        "outputId": "3864c2af-5742-4ec8-fcd4-be3d71d028c4"
      },
      "execution_count": 18,
      "outputs": [
        {
          "output_type": "stream",
          "name": "stdout",
          "text": [
            "[['8595-2609-9393-4932', '111-05-1126', 150000, 'Jack North'], ['4115-2609-9393-4932', '524-05-1126', 120000, 'Hanse Mortey'], ['4095-2609-9322-4932', '078-05-1126', 110000, 'Isabelle Martinez'], ['4095-2909-9393-4932', '078-05-1126', 100000, 'Hassan Cook']]\n",
            "<class 'list'>\n"
          ]
        }
      ]
    },
    {
      "cell_type": "code",
      "source": [
        "for i in data_list:\n",
        "  print(i)"
      ],
      "metadata": {
        "colab": {
          "base_uri": "https://localhost:8080/"
        },
        "id": "SGmiJpztXFhf",
        "outputId": "316aee8e-f883-4e46-a4ac-e4ba7093a124"
      },
      "execution_count": 19,
      "outputs": [
        {
          "output_type": "stream",
          "name": "stdout",
          "text": [
            "['8595-2609-9393-4932', '111-05-1126', 150000, 'Jack North']\n",
            "['4115-2609-9393-4932', '524-05-1126', 120000, 'Hanse Mortey']\n",
            "['4095-2609-9322-4932', '078-05-1126', 110000, 'Isabelle Martinez']\n",
            "['4095-2909-9393-4932', '078-05-1126', 100000, 'Hassan Cook']\n"
          ]
        }
      ]
    },
    {
      "cell_type": "code",
      "source": [
        "data_list[::]=[''.join(map(str,data_list[::]))]"
      ],
      "metadata": {
        "id": "1RSi_CiGYxuo"
      },
      "execution_count": 20,
      "outputs": []
    },
    {
      "cell_type": "code",
      "source": [
        "data_list"
      ],
      "metadata": {
        "colab": {
          "base_uri": "https://localhost:8080/"
        },
        "id": "-V0U2iuKZloI",
        "outputId": "e0b69f10-da89-408f-8896-f9bd0679e4c7"
      },
      "execution_count": 21,
      "outputs": [
        {
          "output_type": "execute_result",
          "data": {
            "text/plain": [
              "[\"['8595-2609-9393-4932', '111-05-1126', 150000, 'Jack North']['4115-2609-9393-4932', '524-05-1126', 120000, 'Hanse Mortey']['4095-2609-9322-4932', '078-05-1126', 110000, 'Isabelle Martinez']['4095-2909-9393-4932', '078-05-1126', 100000, 'Hassan Cook']\"]"
            ]
          },
          "metadata": {},
          "execution_count": 21
        }
      ]
    },
    {
      "cell_type": "code",
      "source": [
        "data = {\n",
        "  \"inputs\": data_list[0],\n",
        "  \"parameters\": {\n",
        "    \"anonymize\": True\n",
        "  }\n",
        "}"
      ],
      "metadata": {
        "id": "i5EnTbnaVJJW"
      },
      "execution_count": 22,
      "outputs": []
    },
    {
      "cell_type": "code",
      "source": [
        "predict_fn(data,AnalyzerEngine())[\"anonymized\"]"
      ],
      "metadata": {
        "colab": {
          "base_uri": "https://localhost:8080/",
          "height": 54
        },
        "id": "ZlgFLhPnVbxi",
        "outputId": "5d0d54fc-2684-4bc6-9f4d-f65039d4c56f"
      },
      "execution_count": 23,
      "outputs": [
        {
          "output_type": "execute_result",
          "data": {
            "text/plain": [
              "\"['8595-2609-9393-4932', '<US_SSN>', 150000, '<PERSON>, '<US_SSN>', 120000, 'Hanse Mortey']['4095-2609-9322-4932', '<US_SSN>', 110000, 'Isabelle Martinez']['4095-2909-9393-4932', '<US_SSN>', 100000, '<PERSON>]\""
            ],
            "application/vnd.google.colaboratory.intrinsic+json": {
              "type": "string"
            }
          },
          "metadata": {},
          "execution_count": 23
        }
      ]
    },
    {
      "cell_type": "code",
      "source": [
        ""
      ],
      "metadata": {
        "id": "Au1yq9Ffdiwp"
      },
      "execution_count": null,
      "outputs": []
    }
  ]
}